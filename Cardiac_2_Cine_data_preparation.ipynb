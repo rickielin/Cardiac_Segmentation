{
  "nbformat": 4,
  "nbformat_minor": 0,
  "metadata": {
    "colab": {
      "provenance": [],
      "authorship_tag": "ABX9TyNcKaJNTbCRlgXl8zHNC1NK",
      "include_colab_link": true
    },
    "kernelspec": {
      "name": "python3",
      "display_name": "Python 3"
    },
    "language_info": {
      "name": "python"
    }
  },
  "cells": [
    {
      "cell_type": "markdown",
      "metadata": {
        "id": "view-in-github",
        "colab_type": "text"
      },
      "source": [
        "<a href=\"https://colab.research.google.com/github/rickielin/Cardiac_Segmentation/blob/main/Cardiac_2_Cine_data_preparation.ipynb\" target=\"_parent\"><img src=\"https://colab.research.google.com/assets/colab-badge.svg\" alt=\"Open In Colab\"/></a>"
      ]
    },
    {
      "cell_type": "code",
      "execution_count": 4,
      "metadata": {
        "colab": {
          "base_uri": "https://localhost:8080/"
        },
        "id": "H068GZUCUYeG",
        "outputId": "2d4af27b-3c48-4d3b-b288-3534c10c9d44"
      },
      "outputs": [
        {
          "output_type": "stream",
          "name": "stdout",
          "text": [
            "Drive already mounted at /content/drive; to attempt to forcibly remount, call drive.mount(\"/content/drive\", force_remount=True).\n",
            "Requirement already satisfied: pydicom in /usr/local/lib/python3.10/dist-packages (2.4.2)\n",
            "Requirement already satisfied: SimpleITK in /usr/local/lib/python3.10/dist-packages (2.2.1)\n"
          ]
        }
      ],
      "source": [
        "from google.colab import drive\n",
        "drive.mount('/content/drive')\n",
        "\n",
        "!pip install pydicom SimpleITK dicom2nifti\n",
        "\n",
        "import numpy as np\n",
        "import pandas as pd\n",
        "from numpy import *\n",
        "import seaborn as sns\n",
        "import scipy.io as scio\n",
        "from PIL import Image\n",
        "import matplotlib.pyplot as plt\n",
        "import cv2\n",
        "import os\n",
        "import pydicom\n",
        "import random\n",
        "import glob\n",
        "from tqdm import tqdm\n",
        "import SimpleITK as sitk\n",
        "import cv2\n",
        "import nibabel as nib\n",
        "import dicom2nifti\n",
        "from skimage.transform import resize\n",
        "%matplotlib inline"
      ]
    },
    {
      "cell_type": "code",
      "source": [
        "DATASET_FOLDER = \"/content/drive/MyDrive/Temporary/Cine_LGE_samples\"\n",
        "# 5 example cases only"
      ],
      "metadata": {
        "id": "AMTXb_lAUgKT"
      },
      "execution_count": 5,
      "outputs": []
    },
    {
      "cell_type": "code",
      "source": [
        "patient_case_num = []\n",
        "for i in os.listdir(DATASET_FOLDER):\n",
        "    patient_case_num.append(i)\n",
        "\n",
        "patient_case_num"
      ],
      "metadata": {
        "colab": {
          "base_uri": "https://localhost:8080/"
        },
        "id": "mw-aLi7aUgMu",
        "outputId": "812e74c5-826a-46f9-e1c3-ad37a55d7c70"
      },
      "execution_count": 7,
      "outputs": [
        {
          "output_type": "execute_result",
          "data": {
            "text/plain": [
              "['4', '49', '26', '83', '310', 'Matching_frame_number_in_Cine_images.xlsx']"
            ]
          },
          "metadata": {},
          "execution_count": 7
        }
      ]
    },
    {
      "cell_type": "code",
      "source": [
        "patient_case_num.remove('Matching_frame_number_in_Cine_images.xlsx')\n",
        "patient_case_num"
      ],
      "metadata": {
        "id": "o2F-JbcFUgPC",
        "colab": {
          "base_uri": "https://localhost:8080/"
        },
        "outputId": "ddc2d932-f164-4d55-c3b8-0cf316fe3842"
      },
      "execution_count": 9,
      "outputs": [
        {
          "output_type": "execute_result",
          "data": {
            "text/plain": [
              "['4', '49', '26', '83', '310']"
            ]
          },
          "metadata": {},
          "execution_count": 9
        }
      ]
    },
    {
      "cell_type": "markdown",
      "source": [
        "Cine images will use the shared annotation files used by LGE.\n",
        "\n",
        "So this notebook only aims at converting Cine from Dicom slices to NIFTI files."
      ],
      "metadata": {
        "id": "H43siET-WJU3"
      }
    },
    {
      "cell_type": "code",
      "source": [
        "# Matching_frame_number_in_Cine_images - TABLE\n",
        "\n",
        "df_match = pd.read_excel('/content/drive/MyDrive/Temporary/Cine_LGE_samples/Matching_frame_number_in_Cine_images.xlsx')\n",
        "print(df_match.head())"
      ],
      "metadata": {
        "colab": {
          "base_uri": "https://localhost:8080/"
        },
        "id": "JCv44ZLbWImh",
        "outputId": "d639ef6e-9ea9-4432-cf13-258183944cc3"
      },
      "execution_count": 12,
      "outputs": [
        {
          "output_type": "stream",
          "name": "stdout",
          "text": [
            "   CaseID  Matching frame number in Cine images\n",
            "0       4                                    22\n",
            "1       6                                    22\n",
            "2      17                                    20\n",
            "3      18                                    21\n",
            "4      21                                    22\n"
          ]
        }
      ]
    },
    {
      "cell_type": "code",
      "source": [
        "filtered_df = df_match[df_match['CaseID'] == 17]\n",
        "print(filtered_df['Matching frame number in Cine images'].values[0])"
      ],
      "metadata": {
        "colab": {
          "base_uri": "https://localhost:8080/"
        },
        "id": "utJguh-KYeKT",
        "outputId": "4ed89335-bcec-4c95-f1d8-5d7567773364"
      },
      "execution_count": 21,
      "outputs": [
        {
          "output_type": "stream",
          "name": "stdout",
          "text": [
            "20\n"
          ]
        }
      ]
    },
    {
      "cell_type": "code",
      "source": [
        "!mkdir CINE_NII_FOLDER"
      ],
      "metadata": {
        "id": "IPkviDzQXp4E"
      },
      "execution_count": 11,
      "outputs": []
    },
    {
      "cell_type": "code",
      "source": [
        "import glob\n",
        "files = glob.glob('/content/drive/MyDrive/Temporary/Cine_LGE_samples/4/4_1/Cine_new' + '/*')\n",
        "\n",
        "files = sorted(files)  # 对文件名进行排序\n",
        "\n",
        "# for file in files:\n",
        "#     print(file)\n",
        "match_num = df_match[df_match['CaseID'] == 4]['Matching frame number in Cine images'].values[0]\n",
        "print(files[match_num - 1])\n",
        "files[21] # 22-1=21"
      ],
      "metadata": {
        "colab": {
          "base_uri": "https://localhost:8080/",
          "height": 53
        },
        "id": "52hp9ovTaz9y",
        "outputId": "3895616a-2d22-4139-a4d8-1e84fb801037"
      },
      "execution_count": 26,
      "outputs": [
        {
          "output_type": "stream",
          "name": "stdout",
          "text": [
            "/content/drive/MyDrive/Temporary/Cine_LGE_samples/4/4_1/Cine_new/IMG-0001-00142.dcm\n"
          ]
        },
        {
          "output_type": "execute_result",
          "data": {
            "text/plain": [
              "'/content/drive/MyDrive/Temporary/Cine_LGE_samples/4/4_1/Cine_new/IMG-0001-00142.dcm'"
            ],
            "application/vnd.google.colaboratory.intrinsic+json": {
              "type": "string"
            }
          },
          "metadata": {},
          "execution_count": 26
        }
      ]
    },
    {
      "cell_type": "code",
      "source": [
        "# 把annotation files也 resize 到(512, 512, 1)\n",
        "\n",
        "nii = nib.load('/content/49_3.nii.gz')\n",
        "data = nii.get_fdata()\n",
        "resized_data = resize(data, (512, 512, 1))\n",
        "new_nii = nib.Nifti1Image(resized_data, np.eye(4))\n",
        "nib.save(new_nii, '/content/49_3_label.nii.gz')"
      ],
      "metadata": {
        "id": "jXtIyzu9nfV3"
      },
      "execution_count": 44,
      "outputs": []
    },
    {
      "cell_type": "code",
      "source": [
        "# DICOM 文件路径\n",
        "dicom_file = \"/content/drive/MyDrive/Temporary/Cine_LGE_samples/49/49_3/Cine_new/IMG-0009-00139.dcm\"\n",
        "\n",
        "# 输出 NIfTI 文件路径\n",
        "nifti_file = \"/content/49_3_cine.nii.gz\"\n",
        "\n",
        "# testing: Dicom --> NIFTI\n",
        "from skimage.transform import resize\n",
        "\n",
        "dcm = pydicom.dcmread(dicom_file) # 读取 DICOM 文件\n",
        "pixel_array = dcm.pixel_array # 获取像素数据\n",
        "pixel_array_3d = pixel_array[:,:,np.newaxis] # 把2D数组转换为3D\n",
        "# pixel_array_3d = np.expand_dims(pixel_array, axis=0) # 把2D数组转换为3D\n",
        "\n",
        "resized_pixel_array = resize(pixel_array_3d, (512, 512, 1)) # 改变图像大小到(512, 512, 1)\n",
        "flipped_pixel_array = np.flip(resized_pixel_array, axis=0) # 上下翻折图像\n",
        "rotated_pixel_array = np.rot90(flipped_pixel_array, 3, (0, 1)) # 逆时针旋转270度\n",
        "\n",
        "nii = nib.Nifti1Image(rotated_pixel_array, np.eye(4)) # 创建 NIfTI 图像\n",
        "nib.save(nii, nifti_file)"
      ],
      "metadata": {
        "id": "WeYbJRrFelPZ"
      },
      "execution_count": 43,
      "outputs": []
    },
    {
      "cell_type": "markdown",
      "source": [
        "## 最终代码"
      ],
      "metadata": {
        "id": "APNPEkKRo4xA"
      }
    },
    {
      "cell_type": "code",
      "source": [
        "# 大循环1_生成所有nii格式的Cine\n",
        "\n",
        "# Path to store NIFTI files\n",
        "CINE_NII = '/content/CINE_NII_FOLDER'\n",
        "\n",
        "for case_num in patient_case_num:\n",
        "    # 获取 _n 的个数\n",
        "    Infarct_mask = scio.loadmat(DATASET_FOLDER+f\"/{case_num}/Masks/InfarctMask.mat\")\n",
        "    Infarct_array = Infarct_mask['InfarctMask']\n",
        "    mri_count = Infarct_array.shape[2]\n",
        "\n",
        "    for _n in range(mri_count):\n",
        "        cine_processing = f'{DATASET_FOLDER}/{case_num}/{case_num}_{_n+1}/Cine_new'\n",
        "        files = glob.glob(cine_processing + '/*')\n",
        "        files = sorted(files)  # 对文件名进行排序\n",
        "        match_num = df_match[df_match['CaseID']==int(case_num)]['Matching frame number in Cine images'].values[0] -1\n",
        "        print(f\"processing: {case_num}_{_n+1}, match number == {match_num + 1}\")\n",
        "\n",
        "        cine_processing = f'{files[match_num]}'\n",
        "        print(cine_processing)\n",
        "\n",
        "        dicom_file = cine_processing\n",
        "        nifti_file = f'{CINE_NII}/{case_num}_{_n+1}_0000.nii.gz' # output path\n",
        "\n",
        "        dcm = pydicom.dcmread(dicom_file) # 读取 DICOM 文件\n",
        "        pixel_array = dcm.pixel_array # 获取像素数据\n",
        "        pixel_array_3d = pixel_array[:,:,np.newaxis] # 把2D数组转换为3D\n",
        "        resized_pixel_array = resize(pixel_array_3d, (512, 512, 1)) # 改变图像大小到(512, 512, 1)\n",
        "        flipped_pixel_array = np.flip(resized_pixel_array, axis=0) # 上下翻折图像\n",
        "        rotated_pixel_array = np.rot90(flipped_pixel_array, 3, (0, 1)) # 逆时针旋转270度\n",
        "\n",
        "        nii = nib.Nifti1Image(rotated_pixel_array, np.eye(4)) # 创建 NIfTI 图像\n",
        "        nib.save(nii, nifti_file)"
      ],
      "metadata": {
        "id": "RnjtCSPTUnjM",
        "colab": {
          "base_uri": "https://localhost:8080/"
        },
        "outputId": "50c4c380-ef08-43c0-f076-3904e6d8e930"
      },
      "execution_count": 48,
      "outputs": [
        {
          "output_type": "stream",
          "name": "stdout",
          "text": [
            "processing: 4_1, match number == 22\n",
            "/content/drive/MyDrive/Temporary/Cine_LGE_samples/4/4_1/Cine_new/IMG-0001-00142.dcm\n",
            "processing: 4_2, match number == 22\n",
            "/content/drive/MyDrive/Temporary/Cine_LGE_samples/4/4_2/Cine_new/IMG-0001-00112.dcm\n",
            "processing: 4_3, match number == 22\n",
            "/content/drive/MyDrive/Temporary/Cine_LGE_samples/4/4_3/Cine_new/IMG-0001-00082.dcm\n",
            "processing: 49_1, match number == 19\n",
            "/content/drive/MyDrive/Temporary/Cine_LGE_samples/49/49_1/Cine_new/IMG-0009-00199.dcm\n",
            "processing: 49_2, match number == 19\n",
            "/content/drive/MyDrive/Temporary/Cine_LGE_samples/49/49_2/Cine_new/IMG-0009-00169.dcm\n",
            "processing: 49_3, match number == 19\n",
            "/content/drive/MyDrive/Temporary/Cine_LGE_samples/49/49_3/Cine_new/IMG-0009-00139.dcm\n",
            "processing: 49_4, match number == 19\n",
            "/content/drive/MyDrive/Temporary/Cine_LGE_samples/49/49_4/Cine_new/IMG-0009-00109.dcm\n",
            "processing: 49_5, match number == 19\n",
            "/content/drive/MyDrive/Temporary/Cine_LGE_samples/49/49_5/Cine_new/IMG-0009-00079.dcm\n",
            "processing: 26_1, match number == 19\n",
            "/content/drive/MyDrive/Temporary/Cine_LGE_samples/26/26_1/Cine_new/IMG-0005-00139.dcm\n",
            "processing: 26_2, match number == 19\n",
            "/content/drive/MyDrive/Temporary/Cine_LGE_samples/26/26_2/Cine_new/IMG-0005-00109.dcm\n",
            "processing: 83_1, match number == 23\n",
            "/content/drive/MyDrive/Temporary/Cine_LGE_samples/83/83_1/Cine_new/IMG-0019-00173.dcm\n",
            "processing: 83_2, match number == 23\n",
            "/content/drive/MyDrive/Temporary/Cine_LGE_samples/83/83_2/Cine_new/IMG-0019-00143.dcm\n",
            "processing: 83_3, match number == 23\n",
            "/content/drive/MyDrive/Temporary/Cine_LGE_samples/83/83_3/Cine_new/IMG-0019-00113.dcm\n",
            "processing: 83_4, match number == 23\n",
            "/content/drive/MyDrive/Temporary/Cine_LGE_samples/83/83_4/Cine_new/IMG-0019-00083.dcm\n",
            "processing: 83_5, match number == 23\n",
            "/content/drive/MyDrive/Temporary/Cine_LGE_samples/83/83_5/Cine_new/IMG-0019-00053.dcm\n",
            "processing: 310_1, match number == 24\n",
            "/content/drive/MyDrive/Temporary/Cine_LGE_samples/310/310_1/Cine_new/IMG-0035-00324.dcm\n",
            "processing: 310_2, match number == 24\n",
            "/content/drive/MyDrive/Temporary/Cine_LGE_samples/310/310_2/Cine_new/IMG-0035-00294.dcm\n"
          ]
        }
      ]
    },
    {
      "cell_type": "code",
      "source": [
        "# 大循环2_将所有annotation files resize 到 (512, 512, 1)\n",
        "\n",
        "for i in os.listdir(\"/Users/rickielim/Desktop/Task300_LGE_only\"):\n",
        "    nii = nib.load(\"/content/sample_data/\" + i)\n",
        "    data = nii.get_fdata()\n",
        "    resized_data = resize(data, (512, 512, 1))\n",
        "    new_nii = nib.Nifti1Image(resized_data, np.eye(4))\n",
        "    nib.save(new_nii, '/content/49_3_label.nii.gz')  # 存301 dataset的labelsTr里！"
      ],
      "metadata": {
        "id": "wNtVBFgIUnlY",
        "colab": {
          "base_uri": "https://localhost:8080/"
        },
        "outputId": "0fa3ef5f-5f1b-49b0-c1d6-e8bd372f37da"
      },
      "execution_count": 47,
      "outputs": [
        {
          "output_type": "stream",
          "name": "stdout",
          "text": [
            "/content/sample_data/anscombe.json\n",
            "/content/sample_data/README.md\n",
            "/content/sample_data/california_housing_train.csv\n",
            "/content/sample_data/california_housing_test.csv\n",
            "/content/sample_data/mnist_test.csv\n",
            "/content/sample_data/mnist_train_small.csv\n"
          ]
        }
      ]
    },
    {
      "cell_type": "code",
      "source": [],
      "metadata": {
        "id": "CT65u6hEUnoC"
      },
      "execution_count": null,
      "outputs": []
    },
    {
      "cell_type": "code",
      "source": [],
      "metadata": {
        "id": "zB7GoShrUnqs"
      },
      "execution_count": null,
      "outputs": []
    },
    {
      "cell_type": "code",
      "source": [],
      "metadata": {
        "id": "mtLDAdFKUgRq"
      },
      "execution_count": null,
      "outputs": []
    }
  ]
}