{
  "nbformat": 4,
  "nbformat_minor": 0,
  "metadata": {
    "colab": {
      "provenance": [],
      "authorship_tag": "ABX9TyNsb3FHDNXezfHC7ipAEMfL",
      "include_colab_link": true
    },
    "kernelspec": {
      "name": "python3",
      "display_name": "Python 3"
    },
    "language_info": {
      "name": "python"
    }
  },
  "cells": [
    {
      "cell_type": "markdown",
      "metadata": {
        "id": "view-in-github",
        "colab_type": "text"
      },
      "source": [
        "<a href=\"https://colab.research.google.com/github/rickielin/Cardiac_Segmentation/blob/main/Cardiac_4_Cine_byChannels_data_preparation.ipynb\" target=\"_parent\"><img src=\"https://colab.research.google.com/assets/colab-badge.svg\" alt=\"Open In Colab\"/></a>"
      ]
    },
    {
      "cell_type": "markdown",
      "source": [
        "将每份Cine的30个slices压到一个nii.gz的30个channels里。最后改成nnUNet-v1 format。命名为：**Task302** <br>\n",
        "\n",
        "<br> Task302被存储于205 server并在该server上训练。\n",
        "<br> /home1/interns/ruikai/nnUNet_v1_v2/nnUNet_raw/_nnUNet_v1_raw_data_base/nnUNet_raw_data/Task302_Cine_byChannels_only/"
      ],
      "metadata": {
        "id": "n-ZBnNbgbWsh"
      }
    },
    {
      "cell_type": "markdown",
      "source": [
        "单张cine是不可能检测到scar 和 mvo 的 只有多张cine的相对运动才能检测到！<br>\n",
        "Multiple channel 输入, single channel 输出就可以了 <br>(比如说输入三个channel rgb 图片 输出一个channel mask 图片 就可以跟ground truth 做一个loss 了)"
      ],
      "metadata": {
        "id": "juNETeRs9Wor"
      }
    },
    {
      "cell_type": "code",
      "execution_count": 7,
      "metadata": {
        "colab": {
          "base_uri": "https://localhost:8080/"
        },
        "id": "7S-p-C0dbOtP",
        "outputId": "94284f11-43e8-41de-e622-181e273d7815"
      },
      "outputs": [
        {
          "output_type": "stream",
          "name": "stdout",
          "text": [
            "Drive already mounted at /content/drive; to attempt to forcibly remount, call drive.mount(\"/content/drive\", force_remount=True).\n",
            "Requirement already satisfied: pydicom in /usr/local/lib/python3.10/dist-packages (2.4.2)\n",
            "Requirement already satisfied: SimpleITK in /usr/local/lib/python3.10/dist-packages (2.2.1)\n"
          ]
        },
        {
          "output_type": "execute_result",
          "data": {
            "text/plain": [
              "['4', '49', '26', '83', '310']"
            ]
          },
          "metadata": {},
          "execution_count": 7
        }
      ],
      "source": [
        "from google.colab import drive\n",
        "drive.mount('/content/drive')\n",
        "\n",
        "!pip install pydicom SimpleITK\n",
        "\n",
        "import numpy as np\n",
        "import pandas as pd\n",
        "from numpy import *\n",
        "import seaborn as sns\n",
        "import scipy.io as scio\n",
        "from PIL import Image\n",
        "import matplotlib.pyplot as plt\n",
        "import cv2\n",
        "import os\n",
        "import pydicom\n",
        "import random\n",
        "from tqdm import tqdm\n",
        "import SimpleITK as sitk\n",
        "import cv2\n",
        "import nibabel as nib\n",
        "%matplotlib inline\n",
        "\n",
        "DATASET_FOLDER = \"/content/drive/MyDrive/Temporary/Cine_LGE_samples\"\n",
        "# 5 example cases only\n",
        "\n",
        "patient_case_num = []\n",
        "for i in os.listdir(DATASET_FOLDER):\n",
        "    patient_case_num.append(i)\n",
        "\n",
        "patient_case_num.remove('Matching_frame_number_in_Cine_images.xlsx')\n",
        "patient_case_num"
      ]
    },
    {
      "cell_type": "code",
      "source": [
        "import glob\n",
        "files = glob.glob('/content/drive/MyDrive/Temporary/Cine_LGE_samples/4/4_1/Cine_new' + '/*')\n",
        "\n",
        "files = sorted(files)  # 对文件名进行排序\n",
        "files[:4]"
      ],
      "metadata": {
        "colab": {
          "base_uri": "https://localhost:8080/"
        },
        "id": "uIWG6k3Te3h8",
        "outputId": "9e82ea18-fc7d-4b6e-b32c-4bbfdf292636"
      },
      "execution_count": 8,
      "outputs": [
        {
          "output_type": "execute_result",
          "data": {
            "text/plain": [
              "['/content/drive/MyDrive/Temporary/Cine_LGE_samples/4/4_1/Cine_new/IMG-0001-00121.dcm',\n",
              " '/content/drive/MyDrive/Temporary/Cine_LGE_samples/4/4_1/Cine_new/IMG-0001-00122.dcm',\n",
              " '/content/drive/MyDrive/Temporary/Cine_LGE_samples/4/4_1/Cine_new/IMG-0001-00123.dcm',\n",
              " '/content/drive/MyDrive/Temporary/Cine_LGE_samples/4/4_1/Cine_new/IMG-0001-00124.dcm']"
            ]
          },
          "metadata": {},
          "execution_count": 8
        }
      ]
    },
    {
      "cell_type": "code",
      "source": [
        "def load_slices_from_folder(folder_path):\n",
        "    # 获取文件夹内的所有文件\n",
        "    slice_files = [os.path.join(folder_path, s) for s in os.listdir(folder_path) if s.endswith('.dcm')]\n",
        "\n",
        "    slice_files = sorted(slice_files)\n",
        "\n",
        "    # 读取所有 DICOM 文件\n",
        "    slices = [pydicom.dcmread(s) for s in slice_files]\n",
        "\n",
        "    # 按照位置排序 slices\n",
        "    # slices.sort(key=lambda x: float(x.ImagePositionPatient[2]))\n",
        "\n",
        "    # 获取每一张 slice 的像素数据并堆叠它们\n",
        "    stacked_slices = np.stack([s.pixel_array for s in slices], axis=2)\n",
        "\n",
        "    return stacked_slices\n",
        "\n",
        "def save_as_nifti(data, output_path):\n",
        "    # 创建 NIfTI 图像\n",
        "    affine = np.eye(4)  # 使用单位矩阵作为 affine (这是一个简化，实际应用中可能需要根据 DICOM 元数据调整 affine)\n",
        "    img = nib.Nifti1Image(data, affine)\n",
        "\n",
        "    # 保存 NIfTI 图像\n",
        "    nib.save(img, output_path)\n",
        "\n",
        "if __name__ == '__main__':\n",
        "    folder_path = '/content/drive/MyDrive/Temporary/Cine_LGE_samples/26/26_1/Cine_new'\n",
        "    output_path = '/content/26_1.nii.gz'   # 修改为您想保存 NIfTI 文件的路径\n",
        "\n",
        "    slices_data = load_slices_from_folder(folder_path)\n",
        "    save_as_nifti(slices_data, output_path)"
      ],
      "metadata": {
        "id": "QzjM7ycie3p-"
      },
      "execution_count": 12,
      "outputs": []
    },
    {
      "cell_type": "code",
      "source": [
        "!mkdir /content/cine2lge_byChannel_data"
      ],
      "metadata": {
        "id": "DV8rRR9ICbtB"
      },
      "execution_count": 13,
      "outputs": []
    },
    {
      "cell_type": "code",
      "source": [
        "# 大循环\n",
        "\n",
        "input_path = \"/content/drive/MyDrive/Temporary/Cine_LGE_samples\"\n",
        "dataset_path = \"/content/cine2lge_byChannel_data\" # 输出至\n",
        "\n",
        "for case_num in patient_case_num:\n",
        "    # 获取 _n 的个数\n",
        "    Infarct_mask = scio.loadmat(DATASET_FOLDER+f\"/{case_num}/Masks/InfarctMask.mat\")\n",
        "    Infarct_array = Infarct_mask['InfarctMask']\n",
        "    mri_count = Infarct_array.shape[2]\n",
        "\n",
        "    for _n in range(mri_count):\n",
        "        folder_path = f'{input_path}/{case_num}/{case_num}_{_n+1}/Cine_new'\n",
        "        output_path = f'{dataset_path}/{case_num}_{_n+1}.nii.gz'\n",
        "        print(f\"processing: {case_num}_{_n+1}.nii.gz\")\n",
        "\n",
        "        slices_data = load_slices_from_folder(folder_path)\n",
        "        save_as_nifti(slices_data, output_path)"
      ],
      "metadata": {
        "id": "Xxq3Ynzqe3sZ",
        "colab": {
          "base_uri": "https://localhost:8080/"
        },
        "outputId": "cadd37f4-ab8b-495e-e90b-83a289f34d8a"
      },
      "execution_count": 14,
      "outputs": [
        {
          "output_type": "stream",
          "name": "stdout",
          "text": [
            "processing: 4_1.nii.gz\n",
            "processing: 4_2.nii.gz\n",
            "processing: 4_3.nii.gz\n",
            "processing: 49_1.nii.gz\n",
            "processing: 49_2.nii.gz\n",
            "processing: 49_3.nii.gz\n",
            "processing: 49_4.nii.gz\n",
            "processing: 49_5.nii.gz\n",
            "processing: 26_1.nii.gz\n",
            "processing: 26_2.nii.gz\n",
            "processing: 83_1.nii.gz\n",
            "processing: 83_2.nii.gz\n",
            "processing: 83_3.nii.gz\n",
            "processing: 83_4.nii.gz\n",
            "processing: 83_5.nii.gz\n",
            "processing: 310_1.nii.gz\n",
            "processing: 310_2.nii.gz\n"
          ]
        }
      ]
    },
    {
      "cell_type": "code",
      "source": [],
      "metadata": {
        "id": "sOwH4DQrbWKL"
      },
      "execution_count": null,
      "outputs": []
    },
    {
      "cell_type": "code",
      "source": [],
      "metadata": {
        "id": "SctaNpSRbWMc"
      },
      "execution_count": null,
      "outputs": []
    },
    {
      "cell_type": "code",
      "source": [],
      "metadata": {
        "id": "VvFmvaWcbWPF"
      },
      "execution_count": null,
      "outputs": []
    }
  ]
}