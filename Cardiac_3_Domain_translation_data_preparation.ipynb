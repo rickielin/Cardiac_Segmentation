{
  "nbformat": 4,
  "nbformat_minor": 0,
  "metadata": {
    "colab": {
      "provenance": [],
      "authorship_tag": "ABX9TyMdujOv9Rgrea2bbwrocAo7",
      "include_colab_link": true
    },
    "kernelspec": {
      "name": "python3",
      "display_name": "Python 3"
    },
    "language_info": {
      "name": "python"
    }
  },
  "cells": [
    {
      "cell_type": "markdown",
      "metadata": {
        "id": "view-in-github",
        "colab_type": "text"
      },
      "source": [
        "<a href=\"https://colab.research.google.com/github/rickielin/Cardiac_Segmentation/blob/main/Cardiac_3_Domain_translation_data_preparation.ipynb\" target=\"_parent\"><img src=\"https://colab.research.google.com/assets/colab-badge.svg\" alt=\"Open In Colab\"/></a>"
      ]
    },
    {
      "cell_type": "markdown",
      "source": [
        "DICOM --> JPEG <br>\n",
        "for CycleGAN / CUT training!"
      ],
      "metadata": {
        "id": "puw5idL5zwNT"
      }
    },
    {
      "cell_type": "code",
      "source": [
        "from google.colab import drive\n",
        "drive.mount('/content/drive')\n",
        "\n",
        "!pip install pydicom SimpleITK dicom2nifti\n",
        "\n",
        "import numpy as np\n",
        "import pandas as pd\n",
        "from numpy import *\n",
        "import seaborn as sns\n",
        "import scipy.io as scio\n",
        "from PIL import Image\n",
        "import matplotlib.pyplot as plt\n",
        "import cv2\n",
        "import os\n",
        "import pydicom\n",
        "import random\n",
        "import glob\n",
        "from tqdm import tqdm\n",
        "import SimpleITK as sitk\n",
        "import cv2\n",
        "import nibabel as nib\n",
        "import dicom2nifti\n",
        "from skimage.transform import resize\n",
        "%matplotlib inline"
      ],
      "metadata": {
        "colab": {
          "base_uri": "https://localhost:8080/"
        },
        "id": "AZe3K4o20fEJ",
        "outputId": "d03207d0-f4f8-49a8-afce-f38ac331e500"
      },
      "execution_count": 1,
      "outputs": [
        {
          "output_type": "stream",
          "name": "stdout",
          "text": [
            "Mounted at /content/drive\n",
            "Collecting pydicom\n",
            "  Downloading pydicom-2.4.2-py3-none-any.whl (1.8 MB)\n",
            "\u001b[2K     \u001b[90m━━━━━━━━━━━━━━━━━━━━━━━━━━━━━━━━━━━━━━━━\u001b[0m \u001b[32m1.8/1.8 MB\u001b[0m \u001b[31m30.1 MB/s\u001b[0m eta \u001b[36m0:00:00\u001b[0m\n",
            "\u001b[?25hCollecting SimpleITK\n",
            "  Downloading SimpleITK-2.2.1-cp310-cp310-manylinux_2_17_x86_64.manylinux2014_x86_64.whl (52.7 MB)\n",
            "\u001b[2K     \u001b[90m━━━━━━━━━━━━━━━━━━━━━━━━━━━━━━━━━━━━━━━━\u001b[0m \u001b[32m52.7/52.7 MB\u001b[0m \u001b[31m15.7 MB/s\u001b[0m eta \u001b[36m0:00:00\u001b[0m\n",
            "\u001b[?25hCollecting dicom2nifti\n",
            "  Downloading dicom2nifti-2.4.8-py3-none-any.whl (43 kB)\n",
            "\u001b[2K     \u001b[90m━━━━━━━━━━━━━━━━━━━━━━━━━━━━━━━━━━━━━━━━\u001b[0m \u001b[32m43.6/43.6 kB\u001b[0m \u001b[31m4.1 MB/s\u001b[0m eta \u001b[36m0:00:00\u001b[0m\n",
            "\u001b[?25hRequirement already satisfied: nibabel in /usr/local/lib/python3.10/dist-packages (from dicom2nifti) (4.0.2)\n",
            "Requirement already satisfied: numpy in /usr/local/lib/python3.10/dist-packages (from dicom2nifti) (1.23.5)\n",
            "Requirement already satisfied: scipy in /usr/local/lib/python3.10/dist-packages (from dicom2nifti) (1.10.1)\n",
            "Collecting python-gdcm (from dicom2nifti)\n",
            "  Downloading python_gdcm-3.0.22-cp310-cp310-manylinux_2_17_x86_64.manylinux2014_x86_64.whl (13.0 MB)\n",
            "\u001b[2K     \u001b[90m━━━━━━━━━━━━━━━━━━━━━━━━━━━━━━━━━━━━━━━━\u001b[0m \u001b[32m13.0/13.0 MB\u001b[0m \u001b[31m77.1 MB/s\u001b[0m eta \u001b[36m0:00:00\u001b[0m\n",
            "\u001b[?25hRequirement already satisfied: packaging>=17.0 in /usr/local/lib/python3.10/dist-packages (from nibabel->dicom2nifti) (23.1)\n",
            "Requirement already satisfied: setuptools in /usr/local/lib/python3.10/dist-packages (from nibabel->dicom2nifti) (67.7.2)\n",
            "Installing collected packages: SimpleITK, python-gdcm, pydicom, dicom2nifti\n",
            "Successfully installed SimpleITK-2.2.1 dicom2nifti-2.4.8 pydicom-2.4.2 python-gdcm-3.0.22\n"
          ]
        }
      ]
    },
    {
      "cell_type": "code",
      "source": [
        "DATASET_FOLDER = \"/content/drive/MyDrive/Temporary/Cine_LGE_samples\"\n",
        "# 5 example cases only\n",
        "\n",
        "patient_case_num = []\n",
        "for i in os.listdir(DATASET_FOLDER):\n",
        "    patient_case_num.append(i)\n",
        "\n",
        "patient_case_num.remove('Matching_frame_number_in_Cine_images.xlsx')\n",
        "patient_case_num"
      ],
      "metadata": {
        "colab": {
          "base_uri": "https://localhost:8080/"
        },
        "id": "qx0kYbyc0fHP",
        "outputId": "ce2a8ad5-72b7-4264-9829-0917c951b913"
      },
      "execution_count": 2,
      "outputs": [
        {
          "output_type": "execute_result",
          "data": {
            "text/plain": [
              "['4', '49', '26', '83', '310']"
            ]
          },
          "metadata": {},
          "execution_count": 2
        }
      ]
    },
    {
      "cell_type": "markdown",
      "source": [
        "### train A: LGE"
      ],
      "metadata": {
        "id": "Pbfl5NAA1wgu"
      }
    },
    {
      "cell_type": "code",
      "source": [
        "!mkdir /content/LGE_JPEG_FOLDER"
      ],
      "metadata": {
        "id": "EoUsHFSj1vtK"
      },
      "execution_count": 7,
      "outputs": []
    },
    {
      "cell_type": "code",
      "source": [
        "# Path to store JPEG files\n",
        "LGE_JPEG = '/content/LGE_JPEG_FOLDER'\n",
        "\n",
        "for case_num in patient_case_num:\n",
        "    # 获取 _n 的个数\n",
        "    Infarct_mask = scio.loadmat(DATASET_FOLDER+f\"/{case_num}/Masks/InfarctMask.mat\")\n",
        "    Infarct_array = Infarct_mask['InfarctMask']\n",
        "    mri_count = Infarct_array.shape[2]\n",
        "\n",
        "    for _n in range(mri_count):\n",
        "        lge_processing = f'{DATASET_FOLDER}/{case_num}/{case_num}_{_n+1}/LGE'\n",
        "        for i in os.listdir(lge_processing):\n",
        "            # IMG-0006-00012.dcm\n",
        "            if \"dcm\" in i:\n",
        "                lge_now = lge_processing + \"/\" + i\n",
        "\n",
        "        print(lge_now)\n",
        "\n",
        "        dicom_file = lge_now\n",
        "        jpeg_file = f'{LGE_JPEG}/{case_num}_{_n+1}_lge.jpeg'  # output path\n",
        "\n",
        "        dcm = pydicom.dcmread(dicom_file)  # 读取 DICOM 文件\n",
        "        pixel_array = dcm.pixel_array  # 获取像素数据\n",
        "        pixel_array_3d = pixel_array[:,:,np.newaxis]  # 把2D数组转换为3D\n",
        "        resized_pixel_array = resize(pixel_array_3d, (512, 512, 1))  # 改变图像大小到(512, 512, 1)\n",
        "        flipped_pixel_array = np.flip(resized_pixel_array, axis=0)  # 上下翻折图像\n",
        "        rotated_pixel_array = np.rot90(flipped_pixel_array, 3, (0, 1))  # 逆时针旋转270度\n",
        "\n",
        "        # 使用matplotlib保存JPEG\n",
        "        plt.imsave(jpeg_file, rotated_pixel_array[:,:,0], cmap='gray')\n",
        "\n",
        "        # 或者使用PIL保存JPEG\n",
        "        # im = Image.fromarray((rotated_pixel_array[:,:,0] * 255).astype(np.uint8))\n",
        "        # im.save(jpeg_file)"
      ],
      "metadata": {
        "id": "gYe-iLQJ1vz8"
      },
      "execution_count": null,
      "outputs": []
    },
    {
      "cell_type": "code",
      "source": [],
      "metadata": {
        "id": "6j1YiMLA1v4s"
      },
      "execution_count": null,
      "outputs": []
    },
    {
      "cell_type": "markdown",
      "source": [
        "### train B: Cine"
      ],
      "metadata": {
        "id": "njASqxU30TiV"
      }
    },
    {
      "cell_type": "code",
      "execution_count": 3,
      "metadata": {
        "id": "-I-JtWpRza_d"
      },
      "outputs": [],
      "source": [
        "# 当前实验，仅抽取Cine中与LGE匹配的slices加入trainB。\n",
        "# 不确定是否需要以此方式去除data imbalance。"
      ]
    },
    {
      "cell_type": "code",
      "source": [
        "# Matching_frame_number_in_Cine_images - TABLE\n",
        "\n",
        "df_match = pd.read_excel('/content/drive/MyDrive/Temporary/Cine_LGE_samples/Matching_frame_number_in_Cine_images.xlsx')\n",
        "print(df_match.head())"
      ],
      "metadata": {
        "colab": {
          "base_uri": "https://localhost:8080/"
        },
        "id": "QAh51PRU16iO",
        "outputId": "3aade7be-2ed4-4226-a0af-f12963b48186"
      },
      "execution_count": 4,
      "outputs": [
        {
          "output_type": "stream",
          "name": "stdout",
          "text": [
            "   CaseID  Matching frame number in Cine images\n",
            "0       4                                    22\n",
            "1       6                                    22\n",
            "2      17                                    20\n",
            "3      18                                    21\n",
            "4      21                                    22\n"
          ]
        }
      ]
    },
    {
      "cell_type": "code",
      "source": [
        "!mkdir /content/CINE_JPEG_FOLDER"
      ],
      "metadata": {
        "id": "BjIhONzg21TN"
      },
      "execution_count": 5,
      "outputs": []
    },
    {
      "cell_type": "code",
      "source": [
        "# Path to store JPEG files\n",
        "CINE_JPEG = '/content/CINE_JPEG_FOLDER'\n",
        "\n",
        "for case_num in patient_case_num:\n",
        "    # 获取 _n 的个数\n",
        "    Infarct_mask = scio.loadmat(DATASET_FOLDER+f\"/{case_num}/Masks/InfarctMask.mat\")\n",
        "    Infarct_array = Infarct_mask['InfarctMask']\n",
        "    mri_count = Infarct_array.shape[2]\n",
        "\n",
        "    for _n in range(mri_count):\n",
        "        cine_processing = f'{DATASET_FOLDER}/{case_num}/{case_num}_{_n+1}/Cine_new'\n",
        "        files = glob.glob(cine_processing + '/*')\n",
        "        files = sorted(files)  # 对文件名进行排序\n",
        "        match_num = df_match[df_match['CaseID']==int(case_num)]['Matching frame number in Cine images'].values[0] -1\n",
        "        print(f\"processing: {case_num}_{_n+1}, match number == {match_num + 1}\")\n",
        "\n",
        "        cine_processing = f'{files[match_num]}'\n",
        "        # print(cine_processing)\n",
        "\n",
        "        dicom_file = cine_processing\n",
        "        jpeg_file = f'{CINE_JPEG}/{case_num}_{_n+1}_cine.jpeg'  # output path\n",
        "\n",
        "        dcm = pydicom.dcmread(dicom_file)  # 读取 DICOM 文件\n",
        "        pixel_array = dcm.pixel_array  # 获取像素数据\n",
        "        pixel_array_3d = pixel_array[:,:,np.newaxis]  # 把2D数组转换为3D\n",
        "        resized_pixel_array = resize(pixel_array_3d, (512, 512, 1))  # 改变图像大小到(512, 512, 1)\n",
        "        flipped_pixel_array = np.flip(resized_pixel_array, axis=0)  # 上下翻折图像\n",
        "        rotated_pixel_array = np.rot90(flipped_pixel_array, 3, (0, 1))  # 逆时针旋转270度\n",
        "\n",
        "        # 使用matplotlib保存JPEG\n",
        "        plt.imsave(jpeg_file, rotated_pixel_array[:,:,0], cmap='gray')\n",
        "\n",
        "        # 或者使用PIL保存JPEG\n",
        "        # im = Image.fromarray((rotated_pixel_array[:,:,0] * 255).astype(np.uint8))\n",
        "        # im.save(jpeg_file)"
      ],
      "metadata": {
        "colab": {
          "base_uri": "https://localhost:8080/"
        },
        "id": "NUGf-i_9zvck",
        "outputId": "7f1a4671-5827-4b62-a918-ef60b3dc98a9"
      },
      "execution_count": 8,
      "outputs": [
        {
          "output_type": "stream",
          "name": "stdout",
          "text": [
            "processing: 4_1, match number == 22\n",
            "processing: 4_2, match number == 22\n",
            "processing: 4_3, match number == 22\n",
            "processing: 49_1, match number == 19\n",
            "processing: 49_2, match number == 19\n",
            "processing: 49_3, match number == 19\n",
            "processing: 49_4, match number == 19\n",
            "processing: 49_5, match number == 19\n",
            "processing: 26_1, match number == 19\n",
            "processing: 26_2, match number == 19\n",
            "processing: 83_1, match number == 23\n",
            "processing: 83_2, match number == 23\n",
            "processing: 83_3, match number == 23\n",
            "processing: 83_4, match number == 23\n",
            "processing: 83_5, match number == 23\n",
            "processing: 310_1, match number == 24\n",
            "processing: 310_2, match number == 24\n"
          ]
        }
      ]
    },
    {
      "cell_type": "code",
      "source": [],
      "metadata": {
        "id": "z_vhlrLPzve_"
      },
      "execution_count": null,
      "outputs": []
    },
    {
      "cell_type": "code",
      "source": [],
      "metadata": {
        "id": "wrcLX3m4zvhc"
      },
      "execution_count": null,
      "outputs": []
    }
  ]
}