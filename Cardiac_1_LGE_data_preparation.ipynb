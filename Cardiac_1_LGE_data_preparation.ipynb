{
  "nbformat": 4,
  "nbformat_minor": 0,
  "metadata": {
    "colab": {
      "provenance": [],
      "authorship_tag": "ABX9TyNr3zPRBMYont4JwHiEKX1a",
      "include_colab_link": true
    },
    "kernelspec": {
      "name": "python3",
      "display_name": "Python 3"
    },
    "language_info": {
      "name": "python"
    }
  },
  "cells": [
    {
      "cell_type": "markdown",
      "metadata": {
        "id": "view-in-github",
        "colab_type": "text"
      },
      "source": [
        "<a href=\"https://colab.research.google.com/github/rickielin/Cardiac_Segmentation/blob/main/Cardiac_1_LGE_data_preparation.ipynb\" target=\"_parent\"><img src=\"https://colab.research.google.com/assets/colab-badge.svg\" alt=\"Open In Colab\"/></a>"
      ]
    },
    {
      "cell_type": "markdown",
      "source": [
        "**Raw data** - <br>\n",
        "Training slices: DICOM files <br>\n",
        "Annotation: Matlab array files\n",
        "\n",
        "**OBJECTIVE** of this notebook:<br>\n",
        "1. DICOM --> 1-channel PNG --> NIFTI (LGE slices)\n",
        "2. Matlab arrays --> NIFTI\n",
        "3. all data --> nnUNet-v1 format"
      ],
      "metadata": {
        "id": "ZBeZRI3Z04Gz"
      }
    },
    {
      "cell_type": "code",
      "execution_count": null,
      "metadata": {
        "colab": {
          "base_uri": "https://localhost:8080/"
        },
        "id": "9gJTIFKD0dbG",
        "outputId": "4d75d625-6f44-4db5-8f70-6617228a40d8"
      },
      "outputs": [
        {
          "output_type": "stream",
          "name": "stdout",
          "text": [
            "Mounted at /content/drive\n",
            "Collecting pydicom\n",
            "  Downloading pydicom-2.4.2-py3-none-any.whl (1.8 MB)\n",
            "\u001b[2K     \u001b[90m━━━━━━━━━━━━━━━━━━━━━━━━━━━━━━━━━━━━━━━━\u001b[0m \u001b[32m1.8/1.8 MB\u001b[0m \u001b[31m8.8 MB/s\u001b[0m eta \u001b[36m0:00:00\u001b[0m\n",
            "\u001b[?25hCollecting SimpleITK\n",
            "  Downloading SimpleITK-2.2.1-cp310-cp310-manylinux_2_17_x86_64.manylinux2014_x86_64.whl (52.7 MB)\n",
            "\u001b[2K     \u001b[90m━━━━━━━━━━━━━━━━━━━━━━━━━━━━━━━━━━━━━━━━\u001b[0m \u001b[32m52.7/52.7 MB\u001b[0m \u001b[31m13.3 MB/s\u001b[0m eta \u001b[36m0:00:00\u001b[0m\n",
            "\u001b[?25hInstalling collected packages: SimpleITK, pydicom\n",
            "Successfully installed SimpleITK-2.2.1 pydicom-2.4.2\n"
          ]
        }
      ],
      "source": [
        "from google.colab import drive\n",
        "drive.mount('/content/drive')\n",
        "\n",
        "!pip install pydicom SimpleITK"
      ]
    },
    {
      "cell_type": "code",
      "source": [
        "import numpy as np\n",
        "import pandas as pd\n",
        "from numpy import *\n",
        "import seaborn as sns\n",
        "import scipy.io as scio\n",
        "from PIL import Image\n",
        "import matplotlib.pyplot as plt\n",
        "import cv2\n",
        "import os\n",
        "import pydicom\n",
        "import random\n",
        "from tqdm import tqdm\n",
        "import SimpleITK as sitk\n",
        "import cv2\n",
        "import nibabel as nib\n",
        "%matplotlib inline"
      ],
      "metadata": {
        "id": "HSDISSnZ025n"
      },
      "execution_count": null,
      "outputs": []
    },
    {
      "cell_type": "code",
      "source": [
        "DATASET_FOLDER = \"/content/drive/MyDrive/Temporary/Cine_LGE_samples\"\n",
        "# 5 example cases only"
      ],
      "metadata": {
        "id": "nHR6JkWS2efN"
      },
      "execution_count": null,
      "outputs": []
    },
    {
      "cell_type": "code",
      "source": [
        "patient_case_num = []\n",
        "for i in os.listdir(DATASET_FOLDER):\n",
        "    patient_case_num.append(i)\n",
        "\n",
        "patient_case_num"
      ],
      "metadata": {
        "colab": {
          "base_uri": "https://localhost:8080/"
        },
        "id": "iz5resm52kRs",
        "outputId": "ae260984-745e-46f5-f5a7-f22e74cdc027"
      },
      "execution_count": null,
      "outputs": [
        {
          "output_type": "execute_result",
          "data": {
            "text/plain": [
              "['4', '49', '26', '83', '310']"
            ]
          },
          "metadata": {},
          "execution_count": 17
        }
      ]
    },
    {
      "cell_type": "markdown",
      "source": [
        "# 1) Annotations"
      ],
      "metadata": {
        "id": "Xx_P2N5L18pW"
      }
    },
    {
      "cell_type": "code",
      "source": [
        "!mkdir /content/labelsTr"
      ],
      "metadata": {
        "id": "-PFF-xpS2W3t"
      },
      "execution_count": null,
      "outputs": []
    },
    {
      "cell_type": "code",
      "source": [
        "# labels images generating (Masks Visualization)\n",
        "\n",
        "for case_num in patient_case_num:\n",
        "    Infarct_mask = scio.loadmat(DATASET_FOLDER+f\"/{case_num}/Masks/InfarctMask.mat\")\n",
        "    Infarct_array = Infarct_mask['InfarctMask']\n",
        "\n",
        "    MVO_mask = scio.loadmat(DATASET_FOLDER+f\"/{case_num}/Masks/MVOMask.mat\")\n",
        "    MVO_array = MVO_mask['MVOMask']\n",
        "\n",
        "    Myocardium_mask = scio.loadmat(DATASET_FOLDER+f\"/{case_num}/Masks/MyocardiumMask.mat\")\n",
        "    Myocardium_array = Myocardium_mask['MyocardiumMask']\n",
        "\n",
        "    # 获取 _n 的个数\n",
        "    mri_count = Infarct_array.shape[2]\n",
        "    # if len(mask_arrays[0].shape) == 3:\n",
        "    #     mri_count = mask_arrays[0].shape[2]\n",
        "    # else:\n",
        "    #     mri_count = 1  # Handle 2D mask\n",
        "\n",
        "\n",
        "    for _n in range(mri_count):\n",
        "        img = np.zeros((Infarct_array.shape[0], Infarct_array.shape[1], 3))\n",
        "\n",
        "        img[:,:,0] += Infarct_array[:, :, _n] * 255\n",
        "        img[:,:,1] += MVO_array[:, :, _n] * 255\n",
        "        img[:,:,2] += Myocardium_array[:, :, _n] * 255\n",
        "\n",
        "        # 获取raw slice的尺寸\n",
        "        height, width = Infarct_array.shape[0], Infarct_array.shape[1]\n",
        "\n",
        "        img = np.clip(img, 0, 255)\n",
        "        img /= 255\n",
        "\n",
        "        print(f\"processing: {case_num}_{_n+1}\")\n",
        "\n",
        "        # 创建一个新的图像，大小与原数组一样\n",
        "        fig = plt.figure(figsize=(width, height), dpi=1)\n",
        "        ax = fig.add_axes([0, 0, 1, 1], frameon=False, aspect=1)\n",
        "        ax.set_xticks([])\n",
        "        ax.set_yticks([])\n",
        "        plt.imshow(img)\n",
        "\n",
        "        # plt.axis('off')\n",
        "        plt.savefig(f\"/content/labelsTr/{case_num}_{_n+1}.png\",\n",
        "                     bbox_inches='tight', pad_inches=0, dpi=1)\n",
        "        plt.close(fig)"
      ],
      "metadata": {
        "colab": {
          "base_uri": "https://localhost:8080/"
        },
        "id": "A5pToNOL027v",
        "outputId": "264a1650-8647-466c-ed3e-5623551666a1"
      },
      "execution_count": null,
      "outputs": [
        {
          "output_type": "stream",
          "name": "stdout",
          "text": [
            "processing: 4_1\n",
            "processing: 4_2\n",
            "processing: 4_3\n",
            "processing: 49_1\n",
            "processing: 49_2\n",
            "processing: 49_3\n",
            "processing: 49_4\n",
            "processing: 49_5\n",
            "processing: 26_1\n",
            "processing: 26_2\n",
            "processing: 83_1\n",
            "processing: 83_2\n",
            "processing: 83_3\n",
            "processing: 83_4\n",
            "processing: 83_5\n",
            "processing: 310_1\n",
            "processing: 310_2\n"
          ]
        }
      ]
    },
    {
      "cell_type": "markdown",
      "source": [
        "这一块code 执行时发现 **case17有非代码问题**   --待解决"
      ],
      "metadata": {
        "id": "_WHRDx1CPqGE"
      }
    },
    {
      "cell_type": "code",
      "source": [
        "!mkdir /content/dataset\n",
        "!mkdir /content/dataset/labelsTr"
      ],
      "metadata": {
        "id": "DsKhKbk_3MUy"
      },
      "execution_count": null,
      "outputs": []
    },
    {
      "cell_type": "code",
      "source": [
        "# PNG to NIFTI\n",
        "\n",
        "ANNOTATION_PNG_FOLDER = \"/content/labelsTr/\"\n",
        "\n",
        "for i in os.listdir(ANNOTATION_PNG_FOLDER):\n",
        "    niigz_name = i.split('.')[0]\n",
        "    png_file = ANNOTATION_PNG_FOLDER + str(i)\n",
        "    img = Image.open(png_file)\n",
        "\n",
        "    # 将 RGB 图像转化为灰度图像\n",
        "    img_gray = img.convert(\"L\")\n",
        "\n",
        "    # 将图像转换为 numpy 数组\n",
        "    data = np.array(img_gray)\n",
        "\n",
        "    # 上下翻折\n",
        "    data = np.flipud(data)\n",
        "    # 向右旋转90度\n",
        "    data = np.rot90(data, -1)  # 注意这里参数-1表示顺时针旋转90度，也就是向右旋转\n",
        "\n",
        "    # 因为 NIfTI 图像是 3D 的，因此需要为 2D 的灰度图像添加一个额外的维度\n",
        "    data = np.expand_dims(data, axis=-1)\n",
        "\n",
        "    # 创建 NIfTI 图像\n",
        "    nii_img = nib.Nifti1Image(data, affine=np.eye(4))\n",
        "\n",
        "    # 保存为 nii.gz\n",
        "    nii_file = f\"/content/labelsTr_nii_first/{niigz_name}.nii.gz\"\n",
        "    nib.save(nii_img, nii_file)"
      ],
      "metadata": {
        "id": "eUmo0IUX3lkj"
      },
      "execution_count": null,
      "outputs": []
    },
    {
      "cell_type": "code",
      "source": [
        "!mkdir /content/labelsTr_nii_first"
      ],
      "metadata": {
        "id": "RH3MyRSEFRAe"
      },
      "execution_count": null,
      "outputs": []
    },
    {
      "cell_type": "markdown",
      "source": [
        "**channels 顺序：**<br> (如有需要)<br>\n",
        "0: 'background', 1: 'infarct', 2: 'MVO', 3: 'myocardium'"
      ],
      "metadata": {
        "id": "eP2X2hQv5N5r"
      }
    },
    {
      "cell_type": "markdown",
      "source": [
        "# 2) Images"
      ],
      "metadata": {
        "id": "l63bNRyj4rQ3"
      }
    },
    {
      "cell_type": "code",
      "source": [
        "!mkdir /content/imagesTr\n",
        "!mkdir /content/dataset/imagesTr"
      ],
      "metadata": {
        "colab": {
          "base_uri": "https://localhost:8080/"
        },
        "id": "OGvXLqlN6HRx",
        "outputId": "4f5f15f9-b8c6-475e-ad2f-811790a1a69f"
      },
      "execution_count": null,
      "outputs": [
        {
          "output_type": "stream",
          "name": "stdout",
          "text": [
            "mkdir: cannot create directory ‘/content/dataset/imagesTr’: File exists\n"
          ]
        }
      ]
    },
    {
      "cell_type": "code",
      "source": [
        "# DICOM --> PNG\n",
        "\n",
        "def dcm_to_png(dcm_file_path, output_dir, output_filename):\n",
        "    # 读取DICOM文件\n",
        "    ds = pydicom.dcmread(dcm_file_path)\n",
        "    # 将图像数组的像素值归一化到0~1的范围，然后将其乘以255\n",
        "    image_array = ds.pixel_array\n",
        "    image_array = (image_array - np.min(image_array)) / (np.max(image_array) - np.min(image_array))\n",
        "    image_array = (image_array * 255).astype(np.uint8)\n",
        "    # 创建PIL图像对象\n",
        "    image = Image.fromarray(image_array)\n",
        "    # 创建输出目录\n",
        "    if not os.path.exists(output_dir):\n",
        "        os.makedirs(output_dir)\n",
        "    # 构建输出PNG文件路径并保存为指定的名字\n",
        "    output_path = os.path.join(output_dir, f\"{output_filename}.png\")\n",
        "    image.save(output_path)"
      ],
      "metadata": {
        "id": "uemIyNh503AT"
      },
      "execution_count": null,
      "outputs": []
    },
    {
      "cell_type": "code",
      "source": [
        "for case_num in patient_case_num:\n",
        "    # 获取 _n 的个数\n",
        "    mri_count = scio.loadmat(DATASET_FOLDER+f\"/{case_num}/Masks/InfarctMask.mat\")['InfarctMask'].shape[2]\n",
        "\n",
        "    # imagesTr PATH\n",
        "    output_dir = \"/content/imagesTr\"\n",
        "\n",
        "    for i in range(mri_count):\n",
        "        processing = DATASET_FOLDER + f\"/{case_num}/{case_num}_{i+1}/LGE/\"\n",
        "        for file in os.listdir(processing):\n",
        "            dcm_file_path = processing + str(file)\n",
        "            png_output_name = f\"{case_num}_{i+1}\"\n",
        "            dcm_to_png(dcm_file_path, output_dir, png_output_name)"
      ],
      "metadata": {
        "id": "U5iOv1_h4qze"
      },
      "execution_count": null,
      "outputs": []
    },
    {
      "cell_type": "code",
      "source": [
        "# PNG --> NIFTI\n",
        "\n",
        "'''\n",
        "    train_percent：训练集和验证集划分比例\n",
        "    img_path：图片路径\n",
        "    mask_path：mask路径\n",
        "    output_folder：保存路径\n",
        "'''\n",
        "def SplitDataset(img_path, train_percent=0.9):\n",
        "    data = os.listdir(img_path)\n",
        "    train_images = []\n",
        "    test_images = []\n",
        "    num = len(data)\n",
        "    train_num = int(num * train_percent)\n",
        "    indexes = list(range(num))\n",
        "    train = random.sample(indexes, train_num)\n",
        "    for i in indexes:\n",
        "        if i in train:\n",
        "            train_images.append(data[i])\n",
        "        else:\n",
        "            test_images.append(data[i])\n",
        "    return train_images, test_images\n",
        "\n",
        "\n",
        "def conver(img_path,  save_dir, mask_path=None, select_condition=None, mode=\"trian\"):\n",
        "    os.makedirs(save_dir, exist_ok=True)\n",
        "    if mode == \"train\":\n",
        "        savepath_img = os.path.join(save_dir, 'imagesTr')\n",
        "        savepath_mask = os.path.join(save_dir, 'labelsTr')\n",
        "    elif mode == \"test\":\n",
        "        savepath_img = os.path.join(save_dir, 'imagesTs')\n",
        "        savepath_mask = os.path.join(save_dir, 'labelsTs')\n",
        "    os.makedirs(savepath_img, exist_ok=True)\n",
        "    if mask_path is not None:\n",
        "        os.makedirs(savepath_mask, exist_ok=True)\n",
        "\n",
        "    ImgList = os.listdir(img_path)\n",
        "    with tqdm(ImgList, desc=\"conver\") as pbar:\n",
        "        for name in pbar:\n",
        "            if select_condition is not None and name not in select_condition:\n",
        "                continue\n",
        "            Img = cv2.imread(os.path.join(img_path, name))\n",
        "            if mask_path is not None:\n",
        "                Mask = cv2.imread(os.path.join(mask_path, name), 0)\n",
        "                Mask = (Mask / 255).astype(np.uint8)\n",
        "                if Img.shape[:2] != Mask.shape:\n",
        "                    Mask = cv2.resize(Mask, (Img.shape[1], Img.shape[0]))\n",
        "            Img_Transposed = np.transpose(Img, (2, 0, 1))\n",
        "            Img_0 = Img_Transposed[0].reshape(1, Img_Transposed[0].shape[0], Img_Transposed[0].shape[1])\n",
        "            Img_1 = Img_Transposed[1].reshape(1, Img_Transposed[1].shape[0], Img_Transposed[1].shape[1])\n",
        "            Img_2 = Img_Transposed[2].reshape(1, Img_Transposed[2].shape[0], Img_Transposed[2].shape[1])\n",
        "            if mask_path is not None:\n",
        "                Mask = Mask.reshape(1, Mask.shape[0], Mask.shape[1])\n",
        "\n",
        "            Img_0_name = name.split('.')[0] + '_0000.nii.gz'\n",
        "            Img_1_name = name.split('.')[0] + '_0001.nii.gz'\n",
        "            Img_2_name = name.split('.')[0] + '_0002.nii.gz'\n",
        "            if mask_path is not None:\n",
        "                Mask_name = name.split('.')[0] + '.nii.gz'\n",
        "\n",
        "            Img_0_nii = sitk.GetImageFromArray(Img_0)\n",
        "            Img_1_nii = sitk.GetImageFromArray(Img_1)\n",
        "            Img_2_nii = sitk.GetImageFromArray(Img_2)\n",
        "            if mask_path is not None:\n",
        "                Mask_nii = sitk.GetImageFromArray(Mask)\n",
        "\n",
        "            sitk.WriteImage(Img_0_nii, os.path.join(savepath_img, Img_0_name))\n",
        "            # sitk.WriteImage(Img_1_nii, os.path.join(savepath_img, Img_1_name))\n",
        "            # sitk.WriteImage(Img_2_nii, os.path.join(savepath_img, Img_2_name))\n",
        "            if mask_path is not None:\n",
        "                sitk.WriteImage(Mask_nii, os.path.join(savepath_mask, Mask_name))\n",
        "\n",
        "# reference: https://blog.csdn.net/weixin_41693877/article/details/121333947"
      ],
      "metadata": {
        "id": "fWW-VeXc4q1x"
      },
      "execution_count": null,
      "outputs": []
    },
    {
      "cell_type": "code",
      "source": [
        "# Split Training set & Test set\n",
        "train_percent = 1\n",
        "\n",
        "img_path = r\"/content/imagesTr\"\n",
        "mask_path = r\"/content/labelsTr\"\n",
        "\n",
        "output_folder = r\"./dataset\"\n",
        "os.makedirs(output_folder, exist_ok=True)\n",
        "train_images, test_images = SplitDataset(img_path, train_percent)\n",
        "conver(img_path, output_folder, mask_path, train_images, mode=\"train\")\n",
        "conver(img_path, output_folder, mask_path, test_images, mode=\"test\")"
      ],
      "metadata": {
        "colab": {
          "base_uri": "https://localhost:8080/"
        },
        "id": "jd9KRVLa4q59",
        "outputId": "b8e68036-ce1f-4aa8-a958-2585f5db7f57"
      },
      "execution_count": null,
      "outputs": [
        {
          "output_type": "stream",
          "name": "stderr",
          "text": [
            "conver: 100%|██████████| 10/10 [00:00<00:00, 25.73it/s]\n",
            "conver: 100%|██████████| 10/10 [00:00<00:00, 85773.09it/s]\n"
          ]
        }
      ]
    },
    {
      "cell_type": "code",
      "source": [
        "# 这部分代码生成的labelsTr有问题，得用（1）里的代码才行！（PNG --> NIFTI）\n",
        "!rm -rf /content/dataset/labelsTr\n",
        "!mkdir /content/dataset/labelsTr"
      ],
      "metadata": {
        "id": "qcx8KAAV7LYY"
      },
      "execution_count": null,
      "outputs": []
    },
    {
      "cell_type": "markdown",
      "source": [
        "# 3) nnUNet-v1 format DATASET"
      ],
      "metadata": {
        "id": "CK02jr0n9bL2"
      }
    },
    {
      "cell_type": "code",
      "source": [
        "!rm -rf /content/dataset/labelsTr\n",
        "!mkdir /content/dataset/labelsTr"
      ],
      "metadata": {
        "id": "id6Ih1uB7LbE"
      },
      "execution_count": null,
      "outputs": []
    },
    {
      "cell_type": "code",
      "source": [
        "!cp /content/dataset/imagesTr/4_1_0000.nii.gz /content/dataset/imagesTs\n",
        "# 随便放一个到imagesTs"
      ],
      "metadata": {
        "id": "fkRjsrTA4q8F"
      },
      "execution_count": null,
      "outputs": []
    },
    {
      "cell_type": "code",
      "source": [
        "!rm -rf /content/drive/MyDrive/Temporary/Task123_dataset_test\n",
        "!mkdir /content/drive/MyDrive/Temporary/Task123_dataset_test\n",
        "!cp -r /content/dataset/* /content/drive/MyDrive/Temporary/Task123_dataset_test"
      ],
      "metadata": {
        "id": "BekGBrqM-9FC"
      },
      "execution_count": null,
      "outputs": []
    },
    {
      "cell_type": "markdown",
      "source": [
        "AssertionError: Labels must be in consecutive order (0, 1, 2, ...). The labels [ 29 105 255] do not satisfy this restriction"
      ],
      "metadata": {
        "id": "ytsLQaXEER41"
      }
    },
    {
      "cell_type": "code",
      "source": [
        "# 更改labelsTr里的nii.gz  0,1,2,3,...\n",
        "\n",
        "for i in os.listdir(\"/content/labelsTr_nii_first\"):\n",
        "    processing = \"/content/labelsTr_nii_first/\"+i\n",
        "\n",
        "    nii = nib.load(processing)\n",
        "    # 获取&修改\n",
        "    data = nii.get_fdata()\n",
        "\n",
        "    data[data == 29] = 1\n",
        "    data[data == 105] = 2\n",
        "    data[data == 255] = 3\n",
        "\n",
        "    # 创建新的nii文件\n",
        "    new_nii = nib.Nifti1Image(data, nii.affine, nii.header)\n",
        "\n",
        "    # 保存新的nii文件\n",
        "    nib.save(new_nii, f'/content/dataset/labelsTr/{i}')"
      ],
      "metadata": {
        "id": "VRKYkT1yFH6G"
      },
      "execution_count": null,
      "outputs": []
    },
    {
      "cell_type": "markdown",
      "source": [
        "Generate nnUNet-v1 **DATASET.JSON**\n",
        "\n",
        "下面代码 205server nnunetv1虚拟环境运行\n",
        "\n",
        "/home1/interns/ruikai/nnUNet_v1_v2/nnUNet_raw/_nnUNet_v1_raw_data_base/nnUNet_raw_data/Task123_dataset_test/"
      ],
      "metadata": {
        "id": "_x4s6nY094oO"
      }
    },
    {
      "cell_type": "code",
      "source": [
        "from typing import Tuple\n",
        "import numpy as np\n",
        "from batchgenerators.utilities.file_and_folder_operations import *\n",
        "\n",
        "def get_identifiers_from_splitted_files(folder: str):\n",
        "    uniques = np.unique([i[:-12] for i in subfiles(folder, suffix='.nii.gz', join=False)])\n",
        "    return uniques\n",
        "\n",
        "\n",
        "def generate_dataset_json(output_file: str, imagesTr_dir: str, imagesTs_dir: str, modalities: Tuple,\n",
        "                          labels: dict, dataset_name: str, sort_keys=True, license: str = \"hands off!\", dataset_description: str = \"\",\n",
        "                          dataset_reference=\"\", dataset_release='0.0'):\n",
        "    \"\"\"\n",
        "    :param output_file: This needs to be the full path to the dataset.json you intend to write, so\n",
        "    output_file='DATASET_PATH/dataset.json' where the folder DATASET_PATH points to is the one with the\n",
        "    imagesTr and labelsTr subfolders\n",
        "    :param imagesTr_dir: path to the imagesTr folder of that dataset\n",
        "    :param imagesTs_dir: path to the imagesTs folder of that dataset. Can be None\n",
        "    :param modalities: tuple of strings with modality names. must be in the same order as the images (first entry\n",
        "    corresponds to _0000.nii.gz, etc). Example: ('T1', 'T2', 'FLAIR').\n",
        "    :param labels: dict with int->str (key->value) mapping the label IDs to label names. Note that 0 is always\n",
        "    supposed to be background! Example: {0: 'background', 1: 'edema', 2: 'enhancing tumor'}\n",
        "    :param dataset_name: The name of the dataset. Can be anything you want\n",
        "    :param sort_keys: In order to sort or not, the keys in dataset.json\n",
        "    :param license:\n",
        "    :param dataset_description:\n",
        "    :param dataset_reference: website of the dataset, if available\n",
        "    :param dataset_release:\n",
        "    :return:\n",
        "    \"\"\"\n",
        "    train_identifiers = get_identifiers_from_splitted_files(imagesTr_dir)\n",
        "\n",
        "    if imagesTs_dir is not None:\n",
        "        test_identifiers = get_identifiers_from_splitted_files(imagesTs_dir)\n",
        "    else:\n",
        "        test_identifiers = []\n",
        "\n",
        "    json_dict = {}\n",
        "    json_dict['name'] = dataset_name\n",
        "    json_dict['description'] = dataset_description\n",
        "    json_dict['tensorImageSize'] = \"4D\"\n",
        "    json_dict['reference'] = dataset_reference\n",
        "    json_dict['licence'] = license\n",
        "    json_dict['release'] = dataset_release\n",
        "    json_dict['modality'] = {str(i): modalities[i] for i in range(len(modalities))}\n",
        "    json_dict['labels'] = {str(i): labels[i] for i in labels.keys()}\n",
        "\n",
        "    json_dict['numTraining'] = len(train_identifiers)\n",
        "    json_dict['numTest'] = len(test_identifiers)\n",
        "    json_dict['training'] = [\n",
        "        {'image': \"./imagesTr/%s.nii.gz\" % i, \"label\": \"./labelsTr/%s.nii.gz\" % i} for i\n",
        "        in\n",
        "        train_identifiers]\n",
        "    json_dict['test'] = [\"./imagesTs/%s.nii.gz\" % i for i in test_identifiers]\n",
        "\n",
        "    if not output_file.endswith(\"dataset.json\"):\n",
        "        print(\"WARNING: output file name is not dataset.json! This may be intentional or not. You decide. \"\n",
        "              \"Proceeding anyways...\")\n",
        "    save_json(json_dict, os.path.join(output_file), sort_keys=sort_keys)\n",
        "\n",
        "\n",
        "# 数据集的路径\n",
        "TASK_RAW_FOLDER = \"//\"\n",
        "\n",
        "generate_dataset_json(output_file = f\"{TASK_RAW_FOLDER}dataset.json\",\n",
        "                     imagesTr_dir = f\"{TASK_RAW_FOLDER}imagesTr\",\n",
        "                     imagesTs_dir = f\"{TASK_RAW_FOLDER}imagesTs\",\n",
        "                     modalities = {0:\"LGE\"},\n",
        "                     labels = {0: 'background',\n",
        "                               1: 'infarct',\n",
        "                               2: 'MVO',\n",
        "                               3: 'myocardium'},\n",
        "                     dataset_name = \"Task123_dataset_test\",\n",
        "                     )"
      ],
      "metadata": {
        "id": "dlgVkWkb9w5Y"
      },
      "execution_count": null,
      "outputs": []
    },
    {
      "cell_type": "code",
      "source": [],
      "metadata": {
        "id": "45wFrq8u9w72"
      },
      "execution_count": null,
      "outputs": []
    },
    {
      "cell_type": "markdown",
      "source": [
        "# 4) Some Adjustments"
      ],
      "metadata": {
        "id": "KwN7N7iHyro4"
      }
    },
    {
      "cell_type": "markdown",
      "source": [
        "Found these unexpected values (they should not be there) [0.9960785]"
      ],
      "metadata": {
        "id": "HBsbV0CGyyjh"
      }
    },
    {
      "cell_type": "code",
      "source": [
        "import numpy as np\n",
        "import nibabel as nib\n",
        "\n",
        "def nii_to_numpy(filename):\n",
        "    nii = nib.load(filename)\n",
        "    # 将数据转为numpy数组\n",
        "    array = nii.get_fdata()\n",
        "    return array\n",
        "\n",
        "filename = '/content/96_4.nii.gz'\n",
        "data = nii_to_numpy(filename)\n",
        "print(data.shape)"
      ],
      "metadata": {
        "id": "_G5EBUOh-69q",
        "colab": {
          "base_uri": "https://localhost:8080/"
        },
        "outputId": "8dd08f96-0cb5-45b9-c45d-ff6b3b531e66"
      },
      "execution_count": null,
      "outputs": [
        {
          "output_type": "stream",
          "name": "stdout",
          "text": [
            "(480, 480, 1)\n"
          ]
        }
      ]
    },
    {
      "cell_type": "code",
      "source": [
        "# 获取唯一值及其出现次数\n",
        "values, counts = np.unique(data, return_counts=True)\n",
        "\n",
        "# 输出每个唯一值及其出现次数\n",
        "for value, count in zip(values, counts):\n",
        "    print(f'Value: {value}, Count: {count}')"
      ],
      "metadata": {
        "id": "k6-dN6ln-6_u",
        "colab": {
          "base_uri": "https://localhost:8080/"
        },
        "outputId": "7354fea8-938f-41ea-b581-0b9deb21e1df"
      },
      "execution_count": null,
      "outputs": [
        {
          "output_type": "stream",
          "name": "stdout",
          "text": [
            "Value: 0.0, Count: 228267\n",
            "Value: 0.9960784902796149, Count: 1783\n",
            "Value: 2.000000118277967, Count: 350\n"
          ]
        }
      ]
    },
    {
      "cell_type": "code",
      "source": [
        "# 把所有在[0.99, 1.01]范围内的数更改为1\n",
        "data[np.isclose(data, 1, atol=0.01)] = 1\n",
        "\n",
        "\n",
        "# 获取唯一值及其出现次数\n",
        "values, counts = np.unique(data, return_counts=True)\n",
        "# 输出每个唯一值及其出现次数\n",
        "for value, count in zip(values, counts):\n",
        "    print(f'Value: {value}, Count: {count}')"
      ],
      "metadata": {
        "colab": {
          "base_uri": "https://localhost:8080/"
        },
        "id": "E9rHyvx303qH",
        "outputId": "ef1224be-2da8-4474-e6a3-e39781ccfee6"
      },
      "execution_count": null,
      "outputs": [
        {
          "output_type": "stream",
          "name": "stdout",
          "text": [
            "Value: 0.0, Count: 228267\n",
            "Value: 1.0, Count: 1783\n",
            "Value: 2.000000118277967, Count: 350\n"
          ]
        }
      ]
    },
    {
      "cell_type": "code",
      "source": [
        "# 完整修改代码\n",
        "'''\n",
        "    将所有接近于1的元素都改为1。\n",
        "'''\n",
        "\n",
        "import os\n",
        "import numpy as np\n",
        "import nibabel as nib\n",
        "\n",
        "directory = '/content/test_nii_labels'\n",
        "\n",
        "for filename in os.listdir(directory):\n",
        "    if filename.endswith('.nii.gz'):\n",
        "        filepath = os.path.join(directory, filename)\n",
        "        nii = nib.load(filepath)\n",
        "\n",
        "        # 将数据转为numpy数组\n",
        "        array = nii.get_fdata()\n",
        "\n",
        "        # 找到所有约等于1/2/3的元素并设置为1/2/3\n",
        "        array[np.isclose(array, 1, atol=0.01)] = 1\n",
        "        array[np.isclose(array, 2, atol=0.01)] = 2\n",
        "        array[np.isclose(array, 3, atol=0.01)] = 3\n",
        "\n",
        "        # 从原始Nifti1Image获取affine矩阵\n",
        "        affine = nii.affine\n",
        "\n",
        "        # 创建一个新的Nifti1Image\n",
        "        new_nii = nib.Nifti1Image(array, affine)\n",
        "\n",
        "        # 保存新的Nifti1Image，覆盖原文件\n",
        "        nib.save(new_nii, filepath)"
      ],
      "metadata": {
        "id": "bioNoyqO1EJf"
      },
      "execution_count": null,
      "outputs": []
    },
    {
      "cell_type": "markdown",
      "source": [
        "上述代码执行后：\n",
        "Verifying label values\n",
        "Expected label values are [0, 1, 2, 3]\n",
        "Labels OK"
      ],
      "metadata": {
        "id": "uXOfTbsD-SjT"
      }
    },
    {
      "cell_type": "markdown",
      "source": [
        "**以310#为例，做数据回溯检查 ——**\n",
        "\n",
        "Unexpected labels found in file /home/interns/ruikai/nnUNet_v1/nnUNet_raw_data_base/nnUNet_raw_data/Task300_LGE_only/labelsTr/310_1.nii.gz. Found these unexpected values (they should not be there) [0.9960785]"
      ],
      "metadata": {
        "id": "JbOa6CZ26YPU"
      }
    },
    {
      "cell_type": "code",
      "source": [
        "!rm -rf /content/labelsTr"
      ],
      "metadata": {
        "id": "a5Kq4pXw6qRG"
      },
      "execution_count": null,
      "outputs": []
    },
    {
      "cell_type": "code",
      "source": [
        "# \"0.99607849\"出问题的数据中，并未出现第3类的annotation\n",
        "# 因此，做如下检查：（from Raw data!）\n",
        "\n",
        "# 以\"310#\"为例。重新跑Code part (1) at this notebook。生成的annotated png files确实没有第3类。\n",
        "# 那当时出现\"0.99607849\"问题很可能就是因为这部分数据没有第3类。总之，解决了。\n",
        "\n",
        "import matplotlib.image as mpimg\n",
        "img = mpimg.imread('/content/labelsTr/310_2.png')\n",
        "plt.imshow(img)\n",
        "plt.show()"
      ],
      "metadata": {
        "colab": {
          "base_uri": "https://localhost:8080/",
          "height": 435
        },
        "id": "lmprIkjd1ELx",
        "outputId": "14bfc281-ab65-4956-bf21-c7daeecafbc3"
      },
      "execution_count": null,
      "outputs": [
        {
          "output_type": "display_data",
          "data": {
            "text/plain": [
              "<Figure size 640x480 with 1 Axes>"
            ],
            "image/png": "[encoded data removed]"
          },
          "metadata": {}
        }
      ]
    },
    {
      "cell_type": "code",
      "source": [],
      "metadata": {
        "id": "u5Aao9zk1EOO"
      },
      "execution_count": null,
      "outputs": []
    },
    {
      "cell_type": "code",
      "source": [],
      "metadata": {
        "id": "FMVl2jnd1EQ3"
      },
      "execution_count": null,
      "outputs": []
    }
  ]
}